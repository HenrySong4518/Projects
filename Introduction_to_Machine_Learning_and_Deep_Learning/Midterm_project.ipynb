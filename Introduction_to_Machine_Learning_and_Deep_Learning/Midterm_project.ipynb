{
 "cells": [
  {
   "cell_type": "code",
   "execution_count": 26,
   "metadata": {},
   "outputs": [],
   "source": [
    "import pandas as pd\n",
    "import numpy as np\n",
    "from sklearn.decomposition import PCA\n",
    "from sklearn.pipeline import make_pipeline\n",
    "from sklearn.model_selection import GridSearchCV\n",
    "from sklearn.ensemble import RandomForestClassifier\n",
    "from sklearn.ensemble import VotingClassifier\n",
    "from sklearn.linear_model import LogisticRegression\n",
    "from sklearn.svm import SVC\n",
    "from sklearn.ensemble import GradientBoostingClassifier\n",
    "from xgboost import XGBClassifier\n",
    "from sklearn.preprocessing import StandardScaler\n",
    "from sklearn.ensemble import BaggingClassifier\n",
    "from sklearn.tree import DecisionTreeClassifier\n",
    "from sklearn.ensemble import AdaBoostClassifier\n",
    "\n",
    "\n",
    "# Load training data\n",
    "train = pd.read_csv('train.csv')\n",
    "\n",
    "# Remove columns which have too many missing items\n",
    "train2 = train.drop(['D_sms', 'D_sm1','D_tm0','D_Ra_Capacity','D_Ra_CDR'], axis=1)   \n",
    "\n",
    "# Make up those missing items with averge  \n",
    "train3 = train2.fillna(train2.mean())\n",
    "X_train = train3.drop(['D_isR'], axis=1)\n",
    "y_train = train['D_isR']\n",
    "\n",
    "\n",
    "# Load test data\n",
    "test = pd.read_csv('X_test.csv')\n",
    "test2 = test.drop(['D_sms', 'D_sm1','D_tm0','D_Ra_Capacity','D_Ra_CDR'], axis=1)\n",
    "X_test = test2.fillna(test2.mean())\n",
    "\n",
    "\n",
    "# Standardization\n",
    "scaler = StandardScaler()\n",
    "scaler.fit(X_train)\n",
    "X_train2 = scaler.transform(X_train)\n",
    "\n",
    "scaler.fit(X_test)\n",
    "X_test2 = scaler.transform(X_test)\n",
    "\n",
    "\n",
    "# Training model\n",
    "bag_clf = BaggingClassifier(\n",
    "    DecisionTreeClassifier(random_state=42), n_estimators=500,\n",
    "    max_samples=100, bootstrap=True, n_jobs=-1, random_state=42)\n",
    "\n",
    "lr_clf = LogisticRegression(penalty='l1', solver='saga', random_state=42)\n",
    "\n",
    "rf_clf = RandomForestClassifier(random_state=42)\n",
    "\n",
    "svc_clf = SVC(random_state=42)\n",
    "\n",
    "gbc_clf = GradientBoostingClassifier(learning_rate=0.1,random_state=42)\n",
    "\n",
    "xgb_clf = XGBClassifier(learning_rate=0.05,n_estimators=450,max_depth=8,subsample=0.7,colsample_bytree=0.9)\n",
    "\n",
    "ada_clf = AdaBoostClassifier(\n",
    "    DecisionTreeClassifier(max_depth=1), n_estimators=500,\n",
    "    algorithm=\"SAMME.R\", learning_rate=0.5, random_state=42)\n",
    "\n",
    "# Voting classifier\n",
    "voting_clf = VotingClassifier(\n",
    "    estimators=[('gbc', gbc_clf), ('xgb', xgb_clf), ('ada', ada_clf), ('bag', bag_clf), ('lr', lr_clf), ('svc', svc_clf),\n",
    "               ('rf', rf_clf)],\n",
    "    voting='hard')\n",
    "\n",
    "# PCA\n",
    "pca = PCA(n_components=47, whiten=True)\n",
    "model = make_pipeline(pca, voting_clf)\n",
    "\n",
    "# Predict\n",
    "model.fit(X_train2, y_train)\n",
    "y_pred = model.predict(X_test2)\n"
   ]
  },
  {
   "cell_type": "code",
   "execution_count": 34,
   "metadata": {},
   "outputs": [],
   "source": [
    "# Output predict data\n",
    "label = y_pred\n",
    "id = range(0,y_pred.shape[0])\n",
    "y_pred2 = { \"id\": id, \"label\": label}  \n",
    "y_pred3 = pd.DataFrame(y_pred2)\n",
    "y_pred3.to_csv('C:/Users/USER/Desktop/midterm/y_pred.csv', index = False)\n"
   ]
  },
  {
   "cell_type": "code",
   "execution_count": null,
   "metadata": {},
   "outputs": [],
   "source": [
    "from sklearn.metrics import accuracy_score\n",
    "from sklearn.model_selection import cross_val_score\n",
    "\n",
    "# Cross validation\n",
    "scores = cross_val_score(model, X_train2, y_train, cv=5, scoring='accuracy')\n",
    "print(model.__class__.__name__, scores.mean())\n"
   ]
  },
  {
   "cell_type": "code",
   "execution_count": 110,
   "metadata": {},
   "outputs": [
    {
     "name": "stderr",
     "output_type": "stream",
     "text": [
      "D:\\Anaconda\\lib\\site-packages\\sklearn\\model_selection\\_split.py:1978: FutureWarning: The default value of cv will change from 3 to 5 in version 0.22. Specify it explicitly to silence this warning.\n",
      "  warnings.warn(CV_WARNING, FutureWarning)\n"
     ]
    },
    {
     "data": {
      "text/plain": [
       "{'max_depth': 8}"
      ]
     },
     "execution_count": 110,
     "metadata": {},
     "output_type": "execute_result"
    }
   ],
   "source": [
    "# Grid search for hyper-parameters\n",
    "parameters = {'n_estimators': [500,1000,2000,3000]}\n",
    "grid_xgb = GridSearchCV( XGBClassifierClassifier(learning_rate=0.1), param_grid=parameters)\n",
    "grid_xgb.fit(X_train2, y_train)\n",
    "grid_xgb.best_params_\n",
    "xgb_clf = grid_xgb.best_estimator_\n"
   ]
  },
  {
   "cell_type": "code",
   "execution_count": 17,
   "metadata": {},
   "outputs": [],
   "source": [
    "# Feature importance\n",
    "for name, score in zip(X_train.columns, xgb_clf.feature_importances_):\n",
    "    print(name, score)\n"
   ]
  },
  {
   "cell_type": "code",
   "execution_count": 23,
   "metadata": {
    "scrolled": false
   },
   "outputs": [
    {
     "name": "stdout",
     "output_type": "stream",
     "text": [
      "              precision    recall  f1-score   support\n",
      "\n",
      "   D_is_notR       0.70      0.62      0.66       216\n",
      "       D_isR       0.75      0.80      0.77       296\n",
      "\n",
      "    accuracy                           0.73       512\n",
      "   macro avg       0.72      0.71      0.72       512\n",
      "weighted avg       0.72      0.73      0.72       512\n",
      "\n"
     ]
    },
    {
     "data": {
      "image/png": "[encoded data removed]",
      "text/plain": [
       "<Figure size 432x288 with 2 Axes>"
      ]
     },
     "metadata": {},
     "output_type": "display_data"
    }
   ],
   "source": [
    "# Model performance analysis\n",
    "from sklearn.metrics import confusion_matrix\n",
    "import seaborn as sns; sns.set()\n",
    "import matplotlib.pyplot as plt\n",
    "from sklearn.metrics import classification_report\n",
    "from sklearn.model_selection import train_test_split\n",
    "\n",
    "Xtrain, Xtest, ytrain, ytest = train_test_split(X_train2, y_train, random_state=42, test_size = 0.2)\n",
    "\n",
    "model = xgb_clf\n",
    "model.fit(Xtrain, ytrain)\n",
    "y_pred = model.predict(Xtest)\n",
    "\n",
    "mat = confusion_matrix(ytest, y_pred)\n",
    "sns.heatmap(mat, square=True, annot=True, fmt='d',\n",
    "            xticklabels=['D_is_notR','D_isR'],\n",
    "            yticklabels=['D_is_notR','D_isR'])\n",
    "plt.xlabel('predicted label')\n",
    "plt.ylabel('true label');\n",
    "\n",
    "print(classification_report(ytest, y_pred, target_names=['D_is_notR','D_isR']))\n"
   ]
  },
  {
   "cell_type": "code",
   "execution_count": null,
   "metadata": {},
   "outputs": [],
   "source": []
  }
 ],
 "metadata": {
  "kernelspec": {
   "display_name": "Python 3",
   "language": "python",
   "name": "python3"
  },
  "language_info": {
   "codemirror_mode": {
    "name": "ipython",
    "version": 3
   },
   "file_extension": ".py",
   "mimetype": "text/x-python",
   "name": "python",
   "nbconvert_exporter": "python",
   "pygments_lexer": "ipython3",
   "version": "3.7.5"
  }
 },
 "nbformat": 4,
 "nbformat_minor": 2
}
