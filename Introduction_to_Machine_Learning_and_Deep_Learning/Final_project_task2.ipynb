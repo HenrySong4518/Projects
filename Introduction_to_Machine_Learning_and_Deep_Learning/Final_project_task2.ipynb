{
 "cells": [
  {
   "cell_type": "code",
   "execution_count": 1,
   "metadata": {
    "colab": {
     "base_uri": "https://localhost:8080/"
    },
    "id": "QiaML7EH1v9G",
    "outputId": "9a9df988-3013-4e2b-9a1c-c41c6497295c"
   },
   "outputs": [
    {
     "name": "stdout",
     "output_type": "stream",
     "text": [
      "Found GPU at: /device:GPU:0\n"
     ]
    }
   ],
   "source": [
    "import tensorflow as tf\n",
    "device_name = tf.test.gpu_device_name()\n",
    "if device_name != '/device:GPU:0':\n",
    "    raise SystemError('GPU device not found')\n",
    "print('Found GPU at: {}'.format(device_name))"
   ]
  },
  {
   "cell_type": "code",
   "execution_count": 2,
   "metadata": {
    "colab": {
     "base_uri": "https://localhost:8080/"
    },
    "id": "ZaxFvGAN2QCb",
    "outputId": "17be784f-fbd8-4d74-be4f-82d0846bebfc"
   },
   "outputs": [
    {
     "name": "stdout",
     "output_type": "stream",
     "text": [
      "Mounted at /content/gdrive\n"
     ]
    }
   ],
   "source": [
    "from google.colab import drive\n",
    "drive.mount('/content/gdrive')"
   ]
  },
  {
   "cell_type": "code",
   "execution_count": 3,
   "metadata": {
    "colab": {
     "base_uri": "https://localhost:8080/"
    },
    "id": "yhmhxi5b21ai",
    "outputId": "d1ca1ca5-f7ce-43cf-9597-163f18e4c29d"
   },
   "outputs": [
    {
     "name": "stdout",
     "output_type": "stream",
     "text": [
      "/content/gdrive/My Drive/final\n"
     ]
    }
   ],
   "source": [
    "cd /content/gdrive/My Drive/final"
   ]
  },
  {
   "cell_type": "code",
   "execution_count": null,
   "metadata": {
    "id": "-Q22Yp_N29HR"
   },
   "outputs": [],
   "source": [
    "#--------------------------------------------------------\n",
    "# Load images\n",
    "#--------------------------------------------------------"
   ]
  },
  {
   "cell_type": "code",
   "execution_count": 4,
   "metadata": {
    "id": "HKaUHWxu3Atj"
   },
   "outputs": [],
   "source": [
    "import pandas as pd\n",
    "from os import listdir\n",
    "import os\n",
    "from os.path import join\n",
    "import cv2\n",
    "import numpy as np\n",
    "\n",
    "# Image directories path\n",
    "path_train_0 = '/content/gdrive/My Drive/final/train_img/0/'\n",
    "path_train_1 = '/content/gdrive/My Drive/final/train_img/1/'\n",
    "path_valid_0 = '/content/gdrive/My Drive/final/valid_img/0/'\n",
    "path_valid_1 = '/content/gdrive/My Drive/final/valid_img/1/'\n",
    "files_train_0 = listdir(path_train_0) \n",
    "files_train_1 = listdir(path_train_1) \n",
    "files_valid_0 = listdir(path_valid_0)\n",
    "files_valid_1 = listdir(path_valid_1)\n",
    "X_train_0 = []\n",
    "X_train_1 = []\n",
    "X_valid_0 = []\n",
    "X_valid_1 = []\n",
    "\n",
    "# Load training images from Google drive directories\n",
    "for i in np.linspace(0,2152,2153):\n",
    "    path_train = os.path.join(path_train_0, files_train_0[int(i)])\n",
    "    data = cv2.imread(path_train)\n",
    "    data = cv2.resize(data, (150, 150), interpolation = cv2.INTER_AREA)\n",
    "    X_train_0.append([data])\n",
    "\n",
    "for i in np.linspace(0,1856,1857):\n",
    "    path_train = os.path.join(path_train_1, files_train_1[int(i)])\n",
    "    data = cv2.imread(path_train)\n",
    "    data = cv2.resize(data, (150, 150), interpolation = cv2.INTER_AREA)\n",
    "    X_train_1.append([data])\n",
    "\n",
    "# Load valid images from Google drive directories\n",
    "for i in np.linspace(0,560,561):\n",
    "    path_valid = os.path.join(path_valid_0, files_valid_0[int(i)])\n",
    "    data = cv2.imread(path_valid)\n",
    "    data = cv2.resize(data, (150, 150), interpolation = cv2.INTER_AREA)\n",
    "    X_valid_0.append([data])\n",
    "\n",
    "for i in np.linspace(0,444,445):\n",
    "    path_valid = os.path.join(path_valid_1, files_valid_1[int(i)])\n",
    "    data = cv2.imread(path_valid)\n",
    "    data = cv2.resize(data, (150, 150), interpolation = cv2.INTER_AREA)\n",
    "    X_valid_1.append([data])\n",
    "\n",
    "# Merge training images\n",
    "X_train = []\n",
    "X_train[:2153] = X_train_0\n",
    "X_train[2153:4010] = X_train_1\n",
    "X_train = np.array(X_train).reshape(4010,150,150,3)\n",
    "\n",
    "# Merge valid images\n",
    "X_valid = []\n",
    "X_valid[:561] = X_valid_0\n",
    "X_valid[561:1006] = X_valid_1\n",
    "X_valid = np.array(X_valid).reshape(1006,150,150,3)"
   ]
  },
  {
   "cell_type": "code",
   "execution_count": 5,
   "metadata": {
    "colab": {
     "base_uri": "https://localhost:8080/"
    },
    "id": "T8AS9uJa9tQn",
    "outputId": "343d30e6-5bff-4b16-f4a0-66fb1e64c7a9"
   },
   "outputs": [
    {
     "data": {
      "text/plain": [
       "(4010, 150, 150, 3)"
      ]
     },
     "execution_count": 5,
     "metadata": {
      "tags": []
     },
     "output_type": "execute_result"
    }
   ],
   "source": [
    "X_train.shape"
   ]
  },
  {
   "cell_type": "code",
   "execution_count": 6,
   "metadata": {
    "id": "Qv7oSG-P9x7b"
   },
   "outputs": [],
   "source": [
    "import numpy as np\n",
    "\n",
    "# Trainging labels\n",
    "Y_train_0 = np.zeros(2153)[:,np.newaxis]\n",
    "Y_train_1 = np.ones(1857)[:,np.newaxis]\n",
    "Y_train = np.vstack((Y_train_0, Y_train_1))\n",
    "Y_train = Y_train.reshape(4010)\n",
    "\n",
    "# Valid labels\n",
    "Y_valid_0 = np.zeros(561)[:,np.newaxis]\n",
    "Y_valid_1 = np.ones(445)[:,np.newaxis]\n",
    "Y_valid = np.vstack((Y_valid_0, Y_valid_1 ))\n",
    "Y_valid = Y_valid.reshape(1006)"
   ]
  },
  {
   "cell_type": "code",
   "execution_count": null,
   "metadata": {
    "id": "zMsUgN5_90Wr"
   },
   "outputs": [],
   "source": [
    "#-----------------------------------------------------\n",
    "# Pretrained model - VGG16、InceptionResNetV2、xception\n",
    "#-----------------------------------------------------"
   ]
  },
  {
   "cell_type": "code",
   "execution_count": 7,
   "metadata": {
    "colab": {
     "base_uri": "https://localhost:8080/"
    },
    "id": "se34nLL890y6",
    "outputId": "a409fbb7-5ec2-4d85-de6b-48899fc1ed70"
   },
   "outputs": [
    {
     "name": "stdout",
     "output_type": "stream",
     "text": [
      "Downloading data from https://storage.googleapis.com/tensorflow/keras-applications/vgg16/vgg16_weights_tf_dim_ordering_tf_kernels_notop.h5\n",
      "58892288/58889256 [==============================] - 3s 0us/step\n",
      "Downloading data from https://storage.googleapis.com/tensorflow/keras-applications/inception_resnet_v2/inception_resnet_v2_weights_tf_dim_ordering_tf_kernels_notop.h5\n",
      "219062272/219055592 [==============================] - 4s 0us/step\n",
      "Downloading data from https://storage.googleapis.com/tensorflow/keras-applications/xception/xception_weights_tf_dim_ordering_tf_kernels_notop.h5\n",
      "83689472/83683744 [==============================] - 2s 0us/step\n"
     ]
    }
   ],
   "source": [
    "import keras\n",
    "from keras.applications import VGG16, inception_resnet_v2, xception\n",
    "\n",
    "VGG_base = VGG16(weights='imagenet',\n",
    "          include_top=False,\n",
    "          input_shape=(150, 150, 3))\n",
    "\n",
    "resnet_base = inception_resnet_v2.InceptionResNetV2(weights='imagenet',\n",
    "                           include_top=False,\n",
    "                           input_shape=(150, 150, 3))\n",
    "\n",
    "xception_base = xception.Xception(weights='imagenet',\n",
    "                  include_top=False,\n",
    "                  input_shape=(150, 150, 3))"
   ]
  },
  {
   "cell_type": "code",
   "execution_count": null,
   "metadata": {
    "id": "HTeJ4ipi-I9k"
   },
   "outputs": [],
   "source": [
    "#-----------------------------------------------------\n",
    "# Data augmentation\n",
    "#-----------------------------------------------------"
   ]
  },
  {
   "cell_type": "code",
   "execution_count": 9,
   "metadata": {
    "id": "GQPtwbvg-KeL"
   },
   "outputs": [],
   "source": [
    "from tensorflow.keras.preprocessing.image import ImageDataGenerator\n",
    "\n",
    "train_datagen = ImageDataGenerator(rescale=1./255,\n",
    "                   rotation_range=30,\n",
    "                   width_shift_range=0.2,\n",
    "                   height_shift_range=0.2,\n",
    "                   shear_range=0.2,\n",
    "                   zoom_range=0.2)\n",
    "\n",
    "valid_datagen = ImageDataGenerator(rescale=1./255)\n",
    "\n",
    "batch_size = 10\n",
    "\n",
    "def extract_features_train(X_train, Y_train, sample_count):\n",
    "    features = np.zeros(shape=(sample_count, 3, 3, 1536))\n",
    "    labels = np.zeros(shape=(sample_count))\n",
    "    generator = train_datagen.flow(X_train, Y_train, batch_size=batch_size)\n",
    "    i = 0\n",
    "    for inputs_batch, labels_batch in generator:\n",
    "        features_batch = resnet_base.predict(inputs_batch)\n",
    "        features[i * batch_size : (i + 1) * batch_size] = features_batch\n",
    "        labels[i * batch_size : (i + 1) * batch_size] = labels_batch\n",
    "        i += 1\n",
    "        if i * batch_size >= sample_count:\n",
    "            break\n",
    "    return features, labels\n",
    "\n",
    "def extract_features_valid(X_train, Y_train, sample_count):\n",
    "    features = np.zeros(shape=(sample_count, 3, 3, 1536))\n",
    "    labels = np.zeros(shape=(sample_count))\n",
    "    generator = valid_datagen.flow(X_train, Y_train, batch_size=batch_size)\n",
    "    i = 0\n",
    "    for inputs_batch, labels_batch in generator:\n",
    "        features_batch = resnet_base.predict(inputs_batch)\n",
    "        features[i * batch_size : (i + 1) * batch_size] = features_batch\n",
    "        labels[i * batch_size : (i + 1) * batch_size] = labels_batch\n",
    "        i += 1\n",
    "        if i * batch_size >= sample_count:\n",
    "            break\n",
    "    return features, labels   \n",
    "\n",
    "train_features, train_labels = extract_features_train(X_train, Y_train, 5000)\n",
    "validation_features, validation_labels = extract_features_valid(X_valid, Y_valid, 1000)"
   ]
  },
  {
   "cell_type": "code",
   "execution_count": 12,
   "metadata": {
    "colab": {
     "base_uri": "https://localhost:8080/"
    },
    "id": "XKw2veQ2CRvW",
    "outputId": "34078eaf-538f-4515-f7bf-ca9c9f0f40e2"
   },
   "outputs": [
    {
     "name": "stdout",
     "output_type": "stream",
     "text": [
      "Epoch 1/35\n",
      "250/250 [==============================] - 1s 5ms/step - loss: 1.8964 - acc: 0.6200 - val_loss: 0.8919 - val_acc: 0.7040\n",
      "Epoch 2/35\n",
      "250/250 [==============================] - 1s 4ms/step - loss: 1.2793 - acc: 0.6492 - val_loss: 1.5408 - val_acc: 0.5650\n",
      "Epoch 3/35\n",
      "250/250 [==============================] - 1s 4ms/step - loss: 1.1571 - acc: 0.6620 - val_loss: 0.6732 - val_acc: 0.7090\n",
      "Epoch 4/35\n",
      "250/250 [==============================] - 1s 4ms/step - loss: 1.2055 - acc: 0.6836 - val_loss: 0.7095 - val_acc: 0.7650\n",
      "Epoch 5/35\n",
      "250/250 [==============================] - 1s 4ms/step - loss: 1.0173 - acc: 0.7006 - val_loss: 0.6282 - val_acc: 0.7820\n",
      "Epoch 6/35\n",
      "250/250 [==============================] - 1s 4ms/step - loss: 0.9955 - acc: 0.6962 - val_loss: 0.7147 - val_acc: 0.7170\n",
      "Epoch 7/35\n",
      "250/250 [==============================] - 1s 4ms/step - loss: 0.9773 - acc: 0.7154 - val_loss: 0.8621 - val_acc: 0.7420\n",
      "Epoch 8/35\n",
      "250/250 [==============================] - 1s 4ms/step - loss: 0.9486 - acc: 0.7134 - val_loss: 0.7520 - val_acc: 0.7680\n",
      "Epoch 9/35\n",
      "250/250 [==============================] - 1s 4ms/step - loss: 0.8778 - acc: 0.7236 - val_loss: 0.7229 - val_acc: 0.7580\n",
      "Epoch 10/35\n",
      "250/250 [==============================] - 1s 4ms/step - loss: 0.8963 - acc: 0.7164 - val_loss: 0.6964 - val_acc: 0.7520\n",
      "Epoch 11/35\n",
      "250/250 [==============================] - 1s 4ms/step - loss: 0.9249 - acc: 0.7212 - val_loss: 0.9076 - val_acc: 0.7250\n",
      "Epoch 12/35\n",
      "250/250 [==============================] - 1s 4ms/step - loss: 0.8144 - acc: 0.7358 - val_loss: 0.8023 - val_acc: 0.7650\n",
      "Epoch 13/35\n",
      "250/250 [==============================] - 1s 4ms/step - loss: 0.8521 - acc: 0.7320 - val_loss: 0.6968 - val_acc: 0.7470\n",
      "Epoch 14/35\n",
      "250/250 [==============================] - 1s 4ms/step - loss: 0.8365 - acc: 0.7354 - val_loss: 0.7909 - val_acc: 0.7580\n",
      "Epoch 15/35\n",
      "250/250 [==============================] - 1s 4ms/step - loss: 0.8119 - acc: 0.7370 - val_loss: 0.6764 - val_acc: 0.7650\n",
      "Epoch 16/35\n",
      "250/250 [==============================] - 1s 4ms/step - loss: 0.7609 - acc: 0.7412 - val_loss: 0.6598 - val_acc: 0.7820\n",
      "Epoch 17/35\n",
      "250/250 [==============================] - 1s 4ms/step - loss: 0.7767 - acc: 0.7422 - val_loss: 0.6413 - val_acc: 0.7600\n",
      "Epoch 18/35\n",
      "250/250 [==============================] - 1s 4ms/step - loss: 0.7546 - acc: 0.7500 - val_loss: 0.9308 - val_acc: 0.7070\n",
      "Epoch 19/35\n",
      "250/250 [==============================] - 1s 4ms/step - loss: 0.7698 - acc: 0.7460 - val_loss: 0.8284 - val_acc: 0.7070\n",
      "Epoch 20/35\n",
      "250/250 [==============================] - 1s 4ms/step - loss: 0.7231 - acc: 0.7482 - val_loss: 1.2250 - val_acc: 0.7220\n",
      "Epoch 21/35\n",
      "250/250 [==============================] - 1s 4ms/step - loss: 0.7781 - acc: 0.7546 - val_loss: 0.8064 - val_acc: 0.7350\n",
      "Epoch 22/35\n",
      "250/250 [==============================] - 1s 4ms/step - loss: 0.7345 - acc: 0.7500 - val_loss: 1.1637 - val_acc: 0.6920\n",
      "Epoch 23/35\n",
      "250/250 [==============================] - 1s 4ms/step - loss: 0.7144 - acc: 0.7504 - val_loss: 0.7539 - val_acc: 0.7500\n",
      "Epoch 24/35\n",
      "250/250 [==============================] - 1s 4ms/step - loss: 0.7173 - acc: 0.7562 - val_loss: 0.7092 - val_acc: 0.7620\n",
      "Epoch 25/35\n",
      "250/250 [==============================] - 1s 4ms/step - loss: 0.7198 - acc: 0.7664 - val_loss: 0.7462 - val_acc: 0.7470\n",
      "Epoch 26/35\n",
      "250/250 [==============================] - 1s 4ms/step - loss: 0.7165 - acc: 0.7662 - val_loss: 1.3737 - val_acc: 0.7040\n",
      "Epoch 27/35\n",
      "250/250 [==============================] - 1s 4ms/step - loss: 0.7243 - acc: 0.7574 - val_loss: 0.7029 - val_acc: 0.7640\n",
      "Epoch 28/35\n",
      "250/250 [==============================] - 1s 4ms/step - loss: 0.7113 - acc: 0.7558 - val_loss: 0.7116 - val_acc: 0.7630\n",
      "Epoch 29/35\n",
      "250/250 [==============================] - 1s 4ms/step - loss: 0.6668 - acc: 0.7680 - val_loss: 0.7662 - val_acc: 0.7440\n",
      "Epoch 30/35\n",
      "250/250 [==============================] - 1s 4ms/step - loss: 0.6918 - acc: 0.7716 - val_loss: 0.7660 - val_acc: 0.7720\n",
      "Epoch 31/35\n",
      "250/250 [==============================] - 1s 4ms/step - loss: 0.6911 - acc: 0.7672 - val_loss: 0.7228 - val_acc: 0.7230\n",
      "Epoch 32/35\n",
      "250/250 [==============================] - 1s 4ms/step - loss: 0.6669 - acc: 0.7656 - val_loss: 0.9072 - val_acc: 0.7550\n",
      "Epoch 33/35\n",
      "250/250 [==============================] - 1s 4ms/step - loss: 0.6679 - acc: 0.7640 - val_loss: 0.7078 - val_acc: 0.7730\n",
      "Epoch 34/35\n",
      "250/250 [==============================] - 1s 4ms/step - loss: 0.6775 - acc: 0.7634 - val_loss: 0.6213 - val_acc: 0.7600\n",
      "Epoch 35/35\n",
      "250/250 [==============================] - 1s 4ms/step - loss: 0.6571 - acc: 0.7700 - val_loss: 0.6836 - val_acc: 0.7600\n"
     ]
    }
   ],
   "source": [
    "from tensorflow.keras import models\n",
    "from tensorflow.keras import layers\n",
    "from tensorflow.keras import optimizers\n",
    "from keras import regularizers\n",
    "\n",
    "train_features = np.reshape(train_features, (5000, 3 * 3 * 1536))\n",
    "validation_features = np.reshape(validation_features, (1000, 3 * 3 * 1536))\n",
    "\n",
    "# Build top layers\n",
    "model = models.Sequential()\n",
    "model.add(layers.Dense(256, kernel_regularizer=regularizers.l2(0.001), activation='relu', input_dim=3 * 3 * 1536))\n",
    "model.add(layers.Dropout(0.5))\n",
    "model.add(layers.Dense(1, activation='sigmoid'))\n",
    "\n",
    "model.compile(optimizer='rmsprop',\n",
    "       loss='binary_crossentropy',\n",
    "       metrics=['acc'])\n",
    "\n",
    "history = model.fit(train_features, train_labels,\n",
    "           epochs=35,\n",
    "           batch_size=20,\n",
    "           validation_data=(validation_features, validation_labels))"
   ]
  },
  {
   "cell_type": "code",
   "execution_count": null,
   "metadata": {
    "id": "A24aVdBBD8s_"
   },
   "outputs": [],
   "source": [
    "#-----------------------------------------------------\n",
    "# Plot result\n",
    "#-----------------------------------------------------"
   ]
  },
  {
   "cell_type": "code",
   "execution_count": 13,
   "metadata": {
    "colab": {
     "base_uri": "https://localhost:8080/",
     "height": 545
    },
    "id": "amkD7J1nD9TM",
    "outputId": "28e93fe5-394e-43fd-f088-d95b50fa4a31"
   },
   "outputs": [
    {
     "data": {
      "image/png": "[encoded data removed]",
      "text/plain": [
       "<Figure size 432x288 with 1 Axes>"
      ]
     },
     "metadata": {
      "needs_background": "light",
      "tags": []
     },
     "output_type": "display_data"
    },
    {
     "data": {
      "image/png": "[encoded data removed]",
      "text/plain": [
       "<Figure size 432x288 with 1 Axes>"
      ]
     },
     "metadata": {
      "needs_background": "light",
      "tags": []
     },
     "output_type": "display_data"
    }
   ],
   "source": [
    "import matplotlib.pyplot as plt\n",
    "\n",
    "acc = history.history['acc']\n",
    "val_acc = history.history['val_acc']\n",
    "loss = history.history['loss']\n",
    "val_loss = history.history['val_loss']\n",
    "\n",
    "epochs = range(len(acc))\n",
    "\n",
    "plt.plot(epochs, acc, 'bo', label='Training acc')\n",
    "plt.plot(epochs, val_acc, 'b', label='Validation acc')\n",
    "plt.title('Training and validation accuracy')\n",
    "plt.legend()\n",
    "\n",
    "plt.figure()\n",
    "\n",
    "plt.plot(epochs, loss, 'bo', label='Training loss')\n",
    "plt.plot(epochs, val_loss, 'b', label='Validation loss')\n",
    "plt.title('Training and validation loss')\n",
    "plt.legend()\n",
    "\n",
    "plt.show()"
   ]
  },
  {
   "cell_type": "code",
   "execution_count": null,
   "metadata": {
    "id": "7SuV0BmqUnpi"
   },
   "outputs": [],
   "source": [
    "#-----------------------------------------------------\n",
    "# Predict\n",
    "#-----------------------------------------------------"
   ]
  },
  {
   "cell_type": "code",
   "execution_count": null,
   "metadata": {
    "id": "1jd-xTt-UqCy"
   },
   "outputs": [],
   "source": [
    "from os import listdir\n",
    "import os\n",
    "import pandas as pd\n",
    "import matplotlib.image as img\n",
    "import matplotlib.pyplot as plt\n",
    "import numpy as np\n",
    "from os.path import join\n",
    "import cv2\n",
    "\n",
    "# Load test images from Google drive directories\n",
    "path_test = '/content/gdrive/My Drive/final/test_img'\n",
    "files_test = listdir(path_test)\n",
    "X_test = []\n",
    "\n",
    "for i in np.linspace(0,912,913):\n",
    "    full_path = os.path.join(path_test,files_test[int(i)])\n",
    "    data = cv2.imread(full_path)\n",
    "    data = cv2.resize(data, (150, 150), interpolation = cv2.INTER_AREA)\n",
    "    X_test.append([data])\n",
    "\n",
    "X_test = np.array(X_test).reshape(913,150,150,3)\n",
    "X_test = X_test.astype('float32') / 255\n",
    "\n",
    "# Predict \n",
    "output = resnet_base.predict(X_test)\n",
    "output = np.reshape(output, (913, 3 * 3 * 1536))\n",
    "Y_predict = model.predict_classes(output)\n",
    "\n",
    "# Convert Y_predict to csv data\n",
    "Y_pred = Y_pred.reshape(913)\n",
    "name = [0] * 913\n",
    "for i in np.linspace(0,912,913):\n",
    "    i = int(i)\n",
    "    name[i]='{:d}.png'.format(int(i)).zfill(7)\n",
    "    \n",
    "y_pred2 = { \"image\": name, \"label\": Y_pred}  \n",
    "y_pred3 = pd.DataFrame(y_pred2)\n",
    "y_pred3.to_csv('/content/gdrive/My Drive/final/Y_predict_resnet.csv', index = False)"
   ]
  },
  {
   "cell_type": "code",
   "execution_count": null,
   "metadata": {
    "id": "eEroqbpKJyZZ"
   },
   "outputs": [],
   "source": [
    "#-----------------------------------------------------\n",
    "# Ensenble\n",
    "#-----------------------------------------------------"
   ]
  },
  {
   "cell_type": "code",
   "execution_count": null,
   "metadata": {
    "id": "1RAeMz8MUOS7"
   },
   "outputs": [],
   "source": [
    "# Load InceptionResNetV2 output\n",
    "train_1 = pd.read_csv('C:/Users/USER/Desktop/final/Y_pred_resnet.csv')\n",
    "label_1 = train_1['label']\n",
    "\n",
    "# Load VGG16 output\n",
    "train_2 = pd.read_csv('C:/Users/USER/Desktop/final/Y_pred_VGG.csv')\n",
    "label_2 = train_2['label']\n",
    "\n",
    "# Load xception output\n",
    "train_3 = pd.read_csv('C:/Users/USER/Desktop/final/Y_pred_xception.csv')\n",
    "label_3 = train_3['label']\n",
    "\n",
    "Y_pred_en=[0]*913\n",
    "\n",
    "# Ensenble\n",
    "for i in np.linspace(0,912,913):\n",
    "    i = int(i)\n",
    "    vote = 0\n",
    "    if label_1[i] == 1:\n",
    "        vote += 1\n",
    "    if label_2[i] == 1:\n",
    "        vote += 1\n",
    "    if label_3[i] == 1:\n",
    "        vote += 1\n",
    "    if vote >= 2:\n",
    "        Y_pred_en[i] = 1\n",
    "    else:\n",
    "        Y_pred_en[i] = 0"
   ]
  }
 ],
 "metadata": {
  "accelerator": "GPU",
  "colab": {
   "collapsed_sections": [],
   "name": "Untitled0.ipynb",
   "provenance": []
  },
  "kernelspec": {
   "display_name": "Python 3",
   "language": "python",
   "name": "python3"
  },
  "language_info": {
   "codemirror_mode": {
    "name": "ipython",
    "version": 3
   },
   "file_extension": ".py",
   "mimetype": "text/x-python",
   "name": "python",
   "nbconvert_exporter": "python",
   "pygments_lexer": "ipython3",
   "version": "3.7.5"
  }
 },
 "nbformat": 4,
 "nbformat_minor": 1
}
